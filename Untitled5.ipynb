{
 "cells": [
  {
   "cell_type": "code",
   "execution_count": null,
   "id": "b2e8db09",
   "metadata": {},
   "outputs": [],
   "source": [
    "import snscrape.modules.twitter as sntwitter\n",
    "import pandas as pd\n",
    "\n",
    "\n",
    "query=\"bitcoin until:2022-11-30 since:2021-01-10\"\n",
    "\n",
    "#query = \"until:2022-11-30 since:2022-11-20\"\n",
    "tweets = []\n",
    "limit =1000000\n",
    "\n",
    "\n",
    "for tweet in sntwitter.TwitterSearchScraper(query).get_items():\n",
    "    \n",
    "    # print(vars(tweet))\n",
    "    # break\n",
    "    if len(tweets) == limit:\n",
    "        break\n",
    "    else:\n",
    "        tweets.append([tweet.user.username, tweet.user.followersCount,tweet.user.location, tweet.user.description,tweet.replyCount,\n",
    "    tweet.retweetCount,tweet.user.verified,tweet.date,tweet.content])\n",
    "\n",
    "columns = ['user_name','user_followers','user_location','user_description','tweet_replies','tweet_retweets','user_verified','date','text']\n",
    "\n",
    "df = pd.DataFrame(tweets, columns=columns)\n",
    "\n",
    "print(df)\n",
    "\n",
    "\n",
    "#columns = ['user_name','user_location','user_description','user_created','user_followers','user_friends','user_favourites','user_verified','date','text','source','is_retweet']\n",
    "\n",
    "#data = []\n",
    "#for tweet in tqdm(tweets):\n",
    " #   data.append([tweet.user.name, tweet.user.location, tweet.user.description,tweet.user.created_at,tweet.user.followers_count,\n",
    "  #  tweet.user.friends_count,tweet.user.favourites_count,tweet.user.verified,tweet.created_at,tweet.full_text,tweet.source,tweet.retweeted])\n",
    "\n",
    "\n",
    "\n",
    "# to save to csv\n",
    "df.to_csv('tweets_new_fin.csv')"
   ]
  },
  {
   "cell_type": "code",
   "execution_count": null,
   "id": "b439ca95",
   "metadata": {},
   "outputs": [],
   "source": []
  }
 ],
 "metadata": {
  "kernelspec": {
   "display_name": "Python 3 (ipykernel)",
   "language": "python",
   "name": "python3"
  },
  "language_info": {
   "codemirror_mode": {
    "name": "ipython",
    "version": 3
   },
   "file_extension": ".py",
   "mimetype": "text/x-python",
   "name": "python",
   "nbconvert_exporter": "python",
   "pygments_lexer": "ipython3",
   "version": "3.9.7"
  }
 },
 "nbformat": 4,
 "nbformat_minor": 5
}
